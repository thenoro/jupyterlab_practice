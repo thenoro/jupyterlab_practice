{
 "cells": [
  {
   "cell_type": "markdown",
   "id": "8ec174f5-2eda-4c52-bc90-098586f50bbf",
   "metadata": {},
   "source": [
    "# Raul Yamashiro\n",
    "Notebook for assignment 7"
   ]
  },
  {
   "cell_type": "code",
   "execution_count": 1,
   "id": "bf5c6988-351a-4eb0-b762-7d7d52490b0c",
   "metadata": {},
   "outputs": [
    {
     "data": {
      "text/plain": [
       "5.0"
      ]
     },
     "execution_count": 1,
     "metadata": {},
     "output_type": "execute_result"
    }
   ],
   "source": [
    "def compute_mean(numlist):\n",
    "    numsum = 0\n",
    "    for num in numlist:\n",
    "        numsum +=num\n",
    "    return numsum/len(numlist)\n",
    "\n",
    "compute_mean([2,4,6,8])"
   ]
  },
  {
   "cell_type": "markdown",
   "id": "c049f447-9866-4da5-be63-c2b2987ba967",
   "metadata": {},
   "source": [
    "The ***compute_mean({list})*** function receives a list of numbers and returns the mean\n",
    "\n",
    "$$\n",
    "\\overline{x} = \\frac{x_1 + x_2 + \\cdots + x_n}{n} = \\frac{1}{n} \\bigg(\\sum_{i=1}^{n}x_i \\bigg)\n",
    "$$"
   ]
  },
  {
   "cell_type": "code",
   "execution_count": null,
   "id": "cdd97ead-a5df-4e85-a996-7fae40b4fc81",
   "metadata": {},
   "outputs": [],
   "source": []
  }
 ],
 "metadata": {
  "kernelspec": {
   "display_name": "Python [conda env:base] *",
   "language": "python",
   "name": "conda-base-py"
  },
  "language_info": {
   "codemirror_mode": {
    "name": "ipython",
    "version": 3
   },
   "file_extension": ".py",
   "mimetype": "text/x-python",
   "name": "python",
   "nbconvert_exporter": "python",
   "pygments_lexer": "ipython3",
   "version": "3.12.3"
  }
 },
 "nbformat": 4,
 "nbformat_minor": 5
}
